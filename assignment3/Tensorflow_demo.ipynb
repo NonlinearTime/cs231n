{
 "cells": [
  {
   "cell_type": "code",
   "execution_count": 1,
   "metadata": {},
   "outputs": [
    {
     "name": "stderr",
     "output_type": "stream",
     "text": [
      "/home/haines/anaconda3/lib/python3.6/importlib/_bootstrap.py:219: RuntimeWarning: numpy.dtype size changed, may indicate binary incompatibility. Expected 96, got 88\n",
      "  return f(*args, **kwds)\n",
      "/home/haines/anaconda3/lib/python3.6/importlib/_bootstrap.py:219: RuntimeWarning: numpy.dtype size changed, may indicate binary incompatibility. Expected 96, got 88\n",
      "  return f(*args, **kwds)\n",
      "/home/haines/anaconda3/lib/python3.6/importlib/_bootstrap.py:219: RuntimeWarning: numpy.dtype size changed, may indicate binary incompatibility. Expected 96, got 88\n",
      "  return f(*args, **kwds)\n"
     ]
    }
   ],
   "source": [
    "import tensorflow as tf"
   ]
  },
  {
   "cell_type": "code",
   "execution_count": 3,
   "metadata": {},
   "outputs": [
    {
     "name": "stdout",
     "output_type": "stream",
     "text": [
      "Tensor(\"Const_2:0\", shape=(), dtype=int32)\n",
      "Tensor(\"Const_3:0\", shape=(3,), dtype=float32)\n",
      "Tensor(\"Const_4:0\", shape=(2, 2), dtype=string)\n",
      "Tensor(\"Const_5:0\", shape=(2, 3, 1), dtype=int32)\n"
     ]
    }
   ],
   "source": [
    "t0 = tf.constant(3, dtype=tf.int32)\n",
    "t1 = tf.constant([3., 4.1, 5.2], dtype=tf.float32)\n",
    "t2 = tf.constant([['Apple', 'Orange'],['Potato','Tomato']], dtype=tf.string)\n",
    "t3 = tf.constant([[[5],[6],[7]],[[4],[3],[2]]])\n",
    "\n",
    "print(t0)\n",
    "print(t1)\n",
    "print(t2)\n",
    "print(t3)"
   ]
  },
  {
   "cell_type": "code",
   "execution_count": 7,
   "metadata": {},
   "outputs": [
    {
     "name": "stdout",
     "output_type": "stream",
     "text": [
      "[[[5]\n",
      "  [6]\n",
      "  [7]]\n",
      "\n",
      " [[4]\n",
      "  [3]\n",
      "  [2]]]\n"
     ]
    }
   ],
   "source": [
    "sess = tf.Session()\n",
    "print(sess.run(t3))"
   ]
  },
  {
   "cell_type": "code",
   "execution_count": 9,
   "metadata": {},
   "outputs": [
    {
     "name": "stdout",
     "output_type": "stream",
     "text": [
      "7.5\n"
     ]
    }
   ],
   "source": [
    "node1 = tf.constant(3.1)\n",
    "node2 = tf.constant(4.4)\n",
    "adder = node1 + node2\n",
    "print(sess.run(adder))"
   ]
  },
  {
   "cell_type": "code",
   "execution_count": 20,
   "metadata": {},
   "outputs": [
    {
     "name": "stdout",
     "output_type": "stream",
     "text": [
      "Tensor(\"Placeholder_14:0\", dtype=float32)\n",
      "Tensor(\"add_9:0\", dtype=float32)\n",
      "[4. 6. 8.]\n",
      "[15. 21. 27.]\n"
     ]
    }
   ],
   "source": [
    "a = tf.placeholder(tf.float32)\n",
    "b = tf.placeholder(tf.float32)\n",
    "adder_t = a + b\n",
    "print(a)\n",
    "print(adder_t)\n",
    "print(sess.run(adder_t, {a:[1,2,3],b:[3,4,5]}))\n",
    "add_and_triple = adder_t * 3\n",
    "print(sess.run(add_and_triple, {a: [1,2,3,], b:[4,5,6]}))"
   ]
  },
  {
   "cell_type": "code",
   "execution_count": 23,
   "metadata": {},
   "outputs": [
    {
     "name": "stdout",
     "output_type": "stream",
     "text": [
      "[-0.1         0.          0.10000001  0.2         0.3         0.40000004]\n",
      "127.71\n"
     ]
    }
   ],
   "source": [
    "w = tf.Variable([.1], dtype=tf.float32)\n",
    "b = tf.Variable([-.2],dtype=tf.float32)\n",
    "x = tf.placeholder(tf.float32)\n",
    "linear_model = w*x+b\n",
    "\n",
    "y = tf.placeholder(tf.float32)\n",
    "loss = tf.reduce_sum(tf.square(linear_model - y))\n",
    "\n",
    "init = tf.global_variables_initializer()\n",
    "sess.run(init)\n",
    "\n",
    "print(sess.run(linear_model,{x:[1,2,3,4,5,6]}))\n",
    "print(sess.run(loss, {x:[1,2,3,4,5,6], y:[2,3,4,5,6,7]}))"
   ]
  },
  {
   "cell_type": "code",
   "execution_count": 29,
   "metadata": {},
   "outputs": [
    {
     "name": "stdout",
     "output_type": "stream",
     "text": [
      "W: [1.0000045] b: [0.99998164] loss: 3.968239e-10\n",
      "3.968239e-10\n",
      "[1.9999862 2.9999907 3.9999952 5.        6.000005  7.0000086]\n"
     ]
    }
   ],
   "source": [
    "optimizer = tf.train.GradientDescentOptimizer(0.001)\n",
    "train = optimizer.minimize(loss)\n"
   ]
  },
  {
   "cell_type": "code",
   "execution_count": 33,
   "metadata": {},
   "outputs": [
    {
     "name": "stdout",
     "output_type": "stream",
     "text": [
      "INFO:tensorflow:Using default config.\n",
      "WARNING:tensorflow:Using temporary folder as model directory: /tmp/tmp91lttw1k\n",
      "INFO:tensorflow:Using config: {'_model_dir': '/tmp/tmp91lttw1k', '_tf_random_seed': None, '_save_summary_steps': 100, '_save_checkpoints_steps': None, '_save_checkpoints_secs': 600, '_session_config': None, '_keep_checkpoint_max': 5, '_keep_checkpoint_every_n_hours': 10000, '_log_step_count_steps': 100, '_train_distribute': None, '_device_fn': None, '_service': None, '_cluster_spec': <tensorflow.python.training.server_lib.ClusterSpec object at 0x7f80781133c8>, '_task_type': 'worker', '_task_id': 0, '_global_id_in_cluster': 0, '_master': '', '_evaluation_master': '', '_is_chief': True, '_num_ps_replicas': 0, '_num_worker_replicas': 1}\n",
      "INFO:tensorflow:Calling model_fn.\n",
      "INFO:tensorflow:Done calling model_fn.\n",
      "INFO:tensorflow:Create CheckpointSaverHook.\n",
      "INFO:tensorflow:Graph was finalized.\n",
      "INFO:tensorflow:Running local_init_op.\n",
      "INFO:tensorflow:Done running local_init_op.\n",
      "INFO:tensorflow:Saving checkpoints for 0 into /tmp/tmp91lttw1k/model.ckpt.\n",
      "INFO:tensorflow:loss = 1506.527347235882, step = 1\n",
      "INFO:tensorflow:global_step/sec: 707.089\n",
      "INFO:tensorflow:loss = 1.8919446632620835, step = 101 (0.143 sec)\n",
      "INFO:tensorflow:global_step/sec: 1041.6\n",
      "INFO:tensorflow:loss = 5.164674282847221, step = 201 (0.096 sec)\n",
      "INFO:tensorflow:global_step/sec: 839.8\n",
      "INFO:tensorflow:loss = 3.8334935698439487, step = 301 (0.118 sec)\n",
      "INFO:tensorflow:global_step/sec: 979.305\n",
      "INFO:tensorflow:loss = 0.7384542662025938, step = 401 (0.102 sec)\n",
      "INFO:tensorflow:global_step/sec: 1094.36\n",
      "INFO:tensorflow:loss = 2.237683978380333, step = 501 (0.091 sec)\n",
      "INFO:tensorflow:global_step/sec: 965.422\n",
      "INFO:tensorflow:loss = 2.192603410296299, step = 601 (0.103 sec)\n",
      "INFO:tensorflow:global_step/sec: 1053.42\n",
      "INFO:tensorflow:loss = 2.34018593881102, step = 701 (0.096 sec)\n",
      "INFO:tensorflow:global_step/sec: 823.124\n",
      "INFO:tensorflow:loss = 2.9407921504913657, step = 801 (0.122 sec)\n",
      "INFO:tensorflow:global_step/sec: 453.043\n",
      "INFO:tensorflow:loss = 1.02239171642677, step = 901 (0.224 sec)\n",
      "INFO:tensorflow:Saving checkpoints for 1000 into /tmp/tmp91lttw1k/model.ckpt.\n",
      "INFO:tensorflow:Loss for final step: 0.14914753230432035.\n",
      "INFO:tensorflow:Calling model_fn.\n",
      "INFO:tensorflow:Done calling model_fn.\n",
      "INFO:tensorflow:Starting evaluation at 2018-07-29-07:36:42\n",
      "INFO:tensorflow:Graph was finalized.\n",
      "INFO:tensorflow:Restoring parameters from /tmp/tmp91lttw1k/model.ckpt-1000\n",
      "INFO:tensorflow:Running local_init_op.\n",
      "INFO:tensorflow:Done running local_init_op.\n",
      "INFO:tensorflow:Finished evaluation at 2018-07-29-07:36:44\n",
      "INFO:tensorflow:Saving dict for global step 1000: global_step = 1000, loss = 1.2311414\n",
      "INFO:tensorflow:Saving 'checkpoint_path' summary for global step 1000: /tmp/tmp91lttw1k/model.ckpt-1000\n",
      "train metrics: {'loss': 1.2311414, 'global_step': 1000}\n",
      "INFO:tensorflow:Calling model_fn.\n",
      "INFO:tensorflow:Done calling model_fn.\n",
      "INFO:tensorflow:Starting evaluation at 2018-07-29-07:36:44\n",
      "INFO:tensorflow:Graph was finalized.\n",
      "INFO:tensorflow:Restoring parameters from /tmp/tmp91lttw1k/model.ckpt-1000\n",
      "INFO:tensorflow:Running local_init_op.\n",
      "INFO:tensorflow:Done running local_init_op.\n",
      "INFO:tensorflow:Finished evaluation at 2018-07-29-07:36:46\n",
      "INFO:tensorflow:Saving dict for global step 1000: global_step = 1000, loss = 0.33254918\n",
      "INFO:tensorflow:Saving 'checkpoint_path' summary for global step 1000: /tmp/tmp91lttw1k/model.ckpt-1000\n",
      "eval metrics: {'loss': 0.33254918, 'global_step': 1000}\n"
     ]
    }
   ],
   "source": [
    "import numpy as np\n",
    "def model_fn(features, labels, mode):\n",
    "    W = tf.get_variable(\"W\", [1], dtype=tf.float64)\n",
    "    b = tf.get_variable(\"b\", [1], dtype=tf.float64)\n",
    "    y = W * features['x'] + b\n",
    "    \n",
    "    loss = tf.reduce_sum(tf.square( y - labels))\n",
    "    \n",
    "    global_step = tf.train.get_global_step()\n",
    "    optimizer = tf.train.GradientDescentOptimizer(0.001)\n",
    "    train = tf.group(optimizer.minimize(loss), tf.assign_add(global_step, 1))\n",
    "    \n",
    "    return tf.estimator.EstimatorSpec(mode=mode, predictions=y, loss=loss, train_op= train)\n",
    "    \n",
    "estimator = tf.estimator.Estimator(model_fn=model_fn)\n",
    "\n",
    "x_train = np.array([1., 2., 3., 6., 8.])\n",
    "y_train = np.array([4.8, 8.5, 10.4, 21.0, 25.3])\n",
    "\n",
    "x_eavl = np.array([2., 5., 7., 9.])\n",
    "y_eavl = np.array([7.6, 17.2, 23.6, 28.8])\n",
    "\n",
    "\n",
    "train_input_fn = tf.estimator.inputs.numpy_input_fn(\n",
    "    {\"x\": x_train}, y_train, batch_size=2, num_epochs=None, shuffle=True)\n",
    "\n",
    "train_input_fn_2 = tf.estimator.inputs.numpy_input_fn(\n",
    "    {\"x\": x_train}, y_train, batch_size=2, num_epochs=1000, shuffle=False)\n",
    "\n",
    "eval_input_fn = tf.estimator.inputs.numpy_input_fn(\n",
    "    {\"x\": x_eavl}, y_eavl, batch_size=2, num_epochs=1000, shuffle=False)\n",
    "\n",
    "estimator.train(input_fn=train_input_fn, steps=1000)\n",
    "\n",
    "train_metrics = estimator.evaluate(input_fn=train_input_fn_2)\n",
    "print(\"train metrics: %r\" % train_metrics)\n",
    "\n",
    "eval_metrics = estimator.evaluate(input_fn=eval_input_fn)\n",
    "print(\"eval metrics: %s\" % eval_metrics)"
   ]
  }
 ],
 "metadata": {
  "kernelspec": {
   "display_name": "Python 3",
   "language": "python",
   "name": "python3"
  },
  "language_info": {
   "codemirror_mode": {
    "name": "ipython",
    "version": 3
   },
   "file_extension": ".py",
   "mimetype": "text/x-python",
   "name": "python",
   "nbconvert_exporter": "python",
   "pygments_lexer": "ipython3",
   "version": "3.6.5"
  }
 },
 "nbformat": 4,
 "nbformat_minor": 2
}
