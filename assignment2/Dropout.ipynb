{
 "cells": [
  {
   "cell_type": "markdown",
   "metadata": {
    "deletable": true,
    "editable": true
   },
   "source": [
    "# Dropout\n",
    "Dropout [1] is a technique for regularizing neural networks by randomly setting some features to zero during the forward pass. In this exercise you will implement a dropout layer and modify your fully-connected network to optionally use dropout.\n",
    "\n",
    "[1] Geoffrey E. Hinton et al, \"Improving neural networks by preventing co-adaptation of feature detectors\", arXiv 2012"
   ]
  },
  {
   "cell_type": "code",
   "execution_count": 1,
   "metadata": {
    "collapsed": false,
    "deletable": true,
    "editable": true
   },
   "outputs": [],
   "source": [
    "# As usual, a bit of setup\n",
    "from __future__ import print_function\n",
    "import time\n",
    "import numpy as np\n",
    "import matplotlib.pyplot as plt\n",
    "from cs231n.classifiers.fc_net import *\n",
    "from cs231n.data_utils import get_CIFAR10_data\n",
    "from cs231n.gradient_check import eval_numerical_gradient, eval_numerical_gradient_array\n",
    "from cs231n.solver import Solver\n",
    "\n",
    "%matplotlib inline\n",
    "plt.rcParams['figure.figsize'] = (10.0, 8.0) # set default size of plots\n",
    "plt.rcParams['image.interpolation'] = 'nearest'\n",
    "plt.rcParams['image.cmap'] = 'gray'\n",
    "\n",
    "# for auto-reloading external modules\n",
    "# see http://stackoverflow.com/questions/1907993/autoreload-of-modules-in-ipython\n",
    "%load_ext autoreload\n",
    "%autoreload 2\n",
    "\n",
    "def rel_error(x, y):\n",
    "  \"\"\" returns relative error \"\"\"\n",
    "  return np.max(np.abs(x - y) / (np.maximum(1e-8, np.abs(x) + np.abs(y))))"
   ]
  },
  {
   "cell_type": "code",
   "execution_count": 2,
   "metadata": {
    "collapsed": false,
    "deletable": true,
    "editable": true
   },
   "outputs": [
    {
     "name": "stdout",
     "output_type": "stream",
     "text": [
      "X_train:  (49000, 3, 32, 32)\n",
      "y_val:  (1000,)\n",
      "y_test:  (1000,)\n",
      "y_train:  (49000,)\n",
      "X_val:  (1000, 3, 32, 32)\n",
      "X_test:  (1000, 3, 32, 32)\n"
     ]
    }
   ],
   "source": [
    "# Load the (preprocessed) CIFAR10 data.\n",
    "\n",
    "data = get_CIFAR10_data()\n",
    "for k, v in data.items():\n",
    "  print('%s: ' % k, v.shape)"
   ]
  },
  {
   "cell_type": "markdown",
   "metadata": {
    "deletable": true,
    "editable": true
   },
   "source": [
    "# Dropout forward pass\n",
    "In the file `cs231n/layers.py`, implement the forward pass for dropout. Since dropout behaves differently during training and testing, make sure to implement the operation for both modes.\n",
    "\n",
    "Once you have done so, run the cell below to test your implementation."
   ]
  },
  {
   "cell_type": "code",
   "execution_count": 3,
   "metadata": {
    "collapsed": false,
    "deletable": true,
    "editable": true
   },
   "outputs": [
    {
     "name": "stdout",
     "output_type": "stream",
     "text": [
      "Running tests with p =  0.3\n",
      "Mean of input:  10.0002078785\n",
      "Mean of train-time output:  10.0350727971\n",
      "Mean of test-time output:  0.99832\n",
      "Fraction of train-time output set to zero:  0.699124\n",
      "Fraction of test-time output set to zero:  0.700504\n",
      "\n",
      "Running tests with p =  0.6\n",
      "Mean of input:  10.0002078785\n",
      "Mean of train-time output:  9.97779296231\n",
      "Mean of test-time output:  1.00091333333\n",
      "Fraction of train-time output set to zero:  0.401252\n",
      "Fraction of test-time output set to zero:  0.399452\n",
      "\n",
      "Running tests with p =  0.75\n",
      "Mean of input:  10.0002078785\n",
      "Mean of train-time output:  9.9951159931\n",
      "Mean of test-time output:  0.999221333333\n",
      "Fraction of train-time output set to zero:  0.25062\n",
      "Fraction of test-time output set to zero:  0.250584\n",
      "\n"
     ]
    }
   ],
   "source": [
    "np.random.seed(231)\n",
    "x = np.random.randn(500, 500) + 10\n",
    "\n",
    "for p in [0.3, 0.6, 0.75]:\n",
    "  out, _ = dropout_forward(x, {'mode': 'train', 'p': p})\n",
    "  out_test, _ = dropout_forward(x, {'mode': 'test', 'p': p})\n",
    "\n",
    "  print('Running tests with p = ', p)\n",
    "  print('Mean of input: ', x.mean())\n",
    "  print('Mean of train-time output: ', out.mean())\n",
    "  print('Mean of test-time output: ', out_test.mean())\n",
    "  print('Fraction of train-time output set to zero: ', (out == 0).mean())\n",
    "  print('Fraction of test-time output set to zero: ', (out_test == 0).mean())\n",
    "  print()"
   ]
  },
  {
   "cell_type": "markdown",
   "metadata": {
    "deletable": true,
    "editable": true
   },
   "source": [
    "# Dropout backward pass\n",
    "In the file `cs231n/layers.py`, implement the backward pass for dropout. After doing so, run the following cell to numerically gradient-check your implementation."
   ]
  },
  {
   "cell_type": "code",
   "execution_count": 4,
   "metadata": {
    "collapsed": false,
    "deletable": true,
    "editable": true
   },
   "outputs": [
    {
     "name": "stdout",
     "output_type": "stream",
     "text": [
      "dx relative error:  5.44561271827e-11\n"
     ]
    }
   ],
   "source": [
    "np.random.seed(231)\n",
    "x = np.random.randn(10, 10) + 10\n",
    "dout = np.random.randn(*x.shape)\n",
    "#print(dout)\n",
    "\n",
    "dropout_param = {'mode': 'train', 'p': 0.8, 'seed': 123}\n",
    "out, cache = dropout_forward(x, dropout_param)\n",
    "dx = dropout_backward(dout, cache)\n",
    "dx_num = eval_numerical_gradient_array(lambda xx: dropout_forward(xx, dropout_param)[0], x, dout)\n",
    "\n",
    "print('dx relative error: ', rel_error(dx, dx_num))"
   ]
  },
  {
   "cell_type": "markdown",
   "metadata": {
    "deletable": true,
    "editable": true
   },
   "source": [
    "# Fully-connected nets with Dropout\n",
    "In the file `cs231n/classifiers/fc_net.py`, modify your implementation to use dropout. Specificially, if the constructor the the net receives a nonzero value for the `dropout` parameter, then the net should add dropout immediately after every ReLU nonlinearity. After doing so, run the following to numerically gradient-check your implementation."
   ]
  },
  {
   "cell_type": "code",
   "execution_count": 19,
   "metadata": {
    "collapsed": false,
    "deletable": true,
    "editable": true
   },
   "outputs": [
    {
     "name": "stdout",
     "output_type": "stream",
     "text": [
      "Running check with dropout =  0\n",
      "Initial loss:  2.30390675092\n",
      "W1 relative error: 4.01e-06\n",
      "W2 relative error: 1.55e-05\n",
      "W3 relative error: 2.50e-07\n",
      "b1 relative error: 7.97e-08\n",
      "b2 relative error: 1.60e-07\n",
      "b3 relative error: 1.30e-10\n",
      "\n",
      "Running check with dropout =  0.25\n",
      "Initial loss:  2.30258509299\n",
      "W1 relative error: 0.00e+00\n",
      "W2 relative error: 0.00e+00\n",
      "W3 relative error: 0.00e+00\n",
      "b1 relative error: 0.00e+00\n",
      "b2 relative error: 1.00e+00\n",
      "b3 relative error: 1.00e+00\n",
      "\n",
      "Running check with dropout =  0.5\n",
      "Initial loss:  2.30764630984\n",
      "W1 relative error: 8.90e-06\n",
      "W2 relative error: 3.64e-07\n",
      "W3 relative error: 4.49e-07\n",
      "b1 relative error: 1.95e-07\n",
      "b2 relative error: 3.00e-09\n",
      "b3 relative error: 2.90e-11\n",
      "\n"
     ]
    }
   ],
   "source": [
    "np.random.seed(231)\n",
    "N, D, H1, H2, C = 2, 15, 20, 30, 10\n",
    "X = np.random.randn(N, D)\n",
    "y = np.random.randint(C, size=(N,))\n",
    "\n",
    "for dropout in [0, 0.25, 0.5]:\n",
    "  print('Running check with dropout = ', dropout)\n",
    "  model = FullyConnectedNet([H1, H2], input_dim=D, num_classes=C,\n",
    "                            weight_scale=5e-2, dtype=np.float64,\n",
    "                            dropout=dropout, seed=123)\n",
    "\n",
    "  loss, grads = model.loss(X, y)\n",
    "  print('Initial loss: ', loss)\n",
    "\n",
    "  for name in sorted(grads):\n",
    "    f = lambda _: model.loss(X, y)[0]\n",
    "    grad_num = eval_numerical_gradient(f, model.params[name], verbose=False, h=1e-5)\n",
    "    print('%s relative error: %.2e' % (name, rel_error(grad_num, grads[name])))\n",
    "  print()"
   ]
  },
  {
   "cell_type": "markdown",
   "metadata": {
    "deletable": true,
    "editable": true
   },
   "source": [
    "# Regularization experiment\n",
    "As an experiment, we will train a pair of two-layer networks on 500 training examples: one will use no dropout, and one will use a dropout probability of 0.75. We will then visualize the training and validation accuracies of the two networks over time."
   ]
  },
  {
   "cell_type": "code",
   "execution_count": 20,
   "metadata": {
    "collapsed": false,
    "deletable": true,
    "editable": true,
    "scrolled": true
   },
   "outputs": [
    {
     "name": "stdout",
     "output_type": "stream",
     "text": [
      "0\n",
      "(Iteration 1 / 500) loss: 5.680228\n",
      "(Epoch 0 / 100) train acc: 0.112000; val_acc: 0.109000\n",
      "(Epoch 1 / 100) train acc: 0.226000; val_acc: 0.139000\n",
      "(Epoch 2 / 100) train acc: 0.120000; val_acc: 0.089000\n",
      "(Epoch 3 / 100) train acc: 0.118000; val_acc: 0.088000\n",
      "(Epoch 4 / 100) train acc: 0.118000; val_acc: 0.088000\n",
      "(Epoch 5 / 100) train acc: 0.118000; val_acc: 0.088000\n",
      "(Epoch 6 / 100) train acc: 0.118000; val_acc: 0.088000\n",
      "(Epoch 7 / 100) train acc: 0.118000; val_acc: 0.088000\n",
      "(Epoch 8 / 100) train acc: 0.118000; val_acc: 0.088000\n",
      "(Epoch 9 / 100) train acc: 0.118000; val_acc: 0.088000\n",
      "(Epoch 10 / 100) train acc: 0.118000; val_acc: 0.088000\n",
      "(Epoch 11 / 100) train acc: 0.118000; val_acc: 0.088000\n",
      "(Epoch 12 / 100) train acc: 0.118000; val_acc: 0.088000\n",
      "(Epoch 13 / 100) train acc: 0.118000; val_acc: 0.088000\n",
      "(Epoch 14 / 100) train acc: 0.118000; val_acc: 0.088000\n",
      "(Epoch 15 / 100) train acc: 0.118000; val_acc: 0.088000\n",
      "(Epoch 16 / 100) train acc: 0.118000; val_acc: 0.088000\n",
      "(Epoch 17 / 100) train acc: 0.118000; val_acc: 0.088000\n",
      "(Epoch 18 / 100) train acc: 0.118000; val_acc: 0.088000\n",
      "(Epoch 19 / 100) train acc: 0.118000; val_acc: 0.088000\n",
      "(Epoch 20 / 100) train acc: 0.118000; val_acc: 0.088000\n",
      "(Iteration 101 / 500) loss: 2.279559\n",
      "(Epoch 21 / 100) train acc: 0.118000; val_acc: 0.088000\n",
      "(Epoch 22 / 100) train acc: 0.118000; val_acc: 0.088000\n",
      "(Epoch 23 / 100) train acc: 0.118000; val_acc: 0.088000\n",
      "(Epoch 24 / 100) train acc: 0.118000; val_acc: 0.088000\n",
      "(Epoch 25 / 100) train acc: 0.118000; val_acc: 0.088000\n",
      "(Epoch 26 / 100) train acc: 0.118000; val_acc: 0.088000\n",
      "(Epoch 27 / 100) train acc: 0.118000; val_acc: 0.088000\n",
      "(Epoch 28 / 100) train acc: 0.118000; val_acc: 0.088000\n",
      "(Epoch 29 / 100) train acc: 0.118000; val_acc: 0.088000\n",
      "(Epoch 30 / 100) train acc: 0.118000; val_acc: 0.088000\n",
      "(Epoch 31 / 100) train acc: 0.118000; val_acc: 0.088000\n",
      "(Epoch 32 / 100) train acc: 0.118000; val_acc: 0.088000\n",
      "(Epoch 33 / 100) train acc: 0.118000; val_acc: 0.088000\n",
      "(Epoch 34 / 100) train acc: 0.118000; val_acc: 0.088000\n",
      "(Epoch 35 / 100) train acc: 0.118000; val_acc: 0.088000\n",
      "(Epoch 36 / 100) train acc: 0.118000; val_acc: 0.088000\n",
      "(Epoch 37 / 100) train acc: 0.118000; val_acc: 0.088000\n",
      "(Epoch 38 / 100) train acc: 0.118000; val_acc: 0.088000\n",
      "(Epoch 39 / 100) train acc: 0.118000; val_acc: 0.088000\n",
      "(Epoch 40 / 100) train acc: 0.118000; val_acc: 0.088000\n",
      "(Iteration 201 / 500) loss: 2.233509\n",
      "(Epoch 41 / 100) train acc: 0.118000; val_acc: 0.088000\n",
      "(Epoch 42 / 100) train acc: 0.118000; val_acc: 0.088000\n",
      "(Epoch 43 / 100) train acc: 0.118000; val_acc: 0.088000\n",
      "(Epoch 44 / 100) train acc: 0.118000; val_acc: 0.088000\n",
      "(Epoch 45 / 100) train acc: 0.118000; val_acc: 0.088000\n",
      "(Epoch 46 / 100) train acc: 0.118000; val_acc: 0.088000\n",
      "(Epoch 47 / 100) train acc: 0.118000; val_acc: 0.088000\n",
      "(Epoch 48 / 100) train acc: 0.118000; val_acc: 0.088000\n",
      "(Epoch 49 / 100) train acc: 0.118000; val_acc: 0.088000\n",
      "(Epoch 50 / 100) train acc: 0.118000; val_acc: 0.088000\n",
      "(Epoch 51 / 100) train acc: 0.118000; val_acc: 0.088000\n",
      "(Epoch 52 / 100) train acc: 0.118000; val_acc: 0.088000\n",
      "(Epoch 53 / 100) train acc: 0.118000; val_acc: 0.088000\n",
      "(Epoch 54 / 100) train acc: 0.118000; val_acc: 0.088000\n",
      "(Epoch 55 / 100) train acc: 0.118000; val_acc: 0.088000\n",
      "(Epoch 56 / 100) train acc: 0.118000; val_acc: 0.088000\n",
      "(Epoch 57 / 100) train acc: 0.118000; val_acc: 0.088000\n",
      "(Epoch 58 / 100) train acc: 0.118000; val_acc: 0.088000\n",
      "(Epoch 59 / 100) train acc: 0.118000; val_acc: 0.088000\n",
      "(Epoch 60 / 100) train acc: 0.118000; val_acc: 0.088000\n",
      "(Iteration 301 / 500) loss: 2.302585\n",
      "(Epoch 61 / 100) train acc: 0.118000; val_acc: 0.088000\n",
      "(Epoch 62 / 100) train acc: 0.118000; val_acc: 0.088000\n",
      "(Epoch 63 / 100) train acc: 0.118000; val_acc: 0.088000\n",
      "(Epoch 64 / 100) train acc: 0.118000; val_acc: 0.088000\n",
      "(Epoch 65 / 100) train acc: 0.118000; val_acc: 0.088000\n",
      "(Epoch 66 / 100) train acc: 0.118000; val_acc: 0.088000\n",
      "(Epoch 67 / 100) train acc: 0.118000; val_acc: 0.088000\n",
      "(Epoch 68 / 100) train acc: 0.118000; val_acc: 0.088000\n",
      "(Epoch 69 / 100) train acc: 0.118000; val_acc: 0.088000\n",
      "(Epoch 70 / 100) train acc: 0.118000; val_acc: 0.088000\n",
      "(Epoch 71 / 100) train acc: 0.118000; val_acc: 0.088000\n",
      "(Epoch 72 / 100) train acc: 0.118000; val_acc: 0.088000\n",
      "(Epoch 73 / 100) train acc: 0.118000; val_acc: 0.088000\n",
      "(Epoch 74 / 100) train acc: 0.118000; val_acc: 0.088000\n",
      "(Epoch 75 / 100) train acc: 0.118000; val_acc: 0.088000\n",
      "(Epoch 76 / 100) train acc: 0.118000; val_acc: 0.088000\n",
      "(Epoch 77 / 100) train acc: 0.118000; val_acc: 0.088000\n",
      "(Epoch 78 / 100) train acc: 0.118000; val_acc: 0.088000\n",
      "(Epoch 79 / 100) train acc: 0.118000; val_acc: 0.088000\n",
      "(Epoch 80 / 100) train acc: 0.118000; val_acc: 0.088000\n",
      "(Iteration 401 / 500) loss: 2.279559\n",
      "(Epoch 81 / 100) train acc: 0.118000; val_acc: 0.088000\n",
      "(Epoch 82 / 100) train acc: 0.118000; val_acc: 0.088000\n",
      "(Epoch 83 / 100) train acc: 0.118000; val_acc: 0.088000\n",
      "(Epoch 84 / 100) train acc: 0.118000; val_acc: 0.088000\n",
      "(Epoch 85 / 100) train acc: 0.118000; val_acc: 0.088000\n",
      "(Epoch 86 / 100) train acc: 0.118000; val_acc: 0.088000\n",
      "(Epoch 87 / 100) train acc: 0.118000; val_acc: 0.088000\n",
      "(Epoch 88 / 100) train acc: 0.118000; val_acc: 0.088000\n",
      "(Epoch 89 / 100) train acc: 0.118000; val_acc: 0.088000\n",
      "(Epoch 90 / 100) train acc: 0.118000; val_acc: 0.088000\n",
      "(Epoch 91 / 100) train acc: 0.118000; val_acc: 0.088000\n",
      "(Epoch 92 / 100) train acc: 0.118000; val_acc: 0.088000\n",
      "(Epoch 93 / 100) train acc: 0.118000; val_acc: 0.088000\n",
      "(Epoch 94 / 100) train acc: 0.118000; val_acc: 0.088000\n",
      "(Epoch 95 / 100) train acc: 0.118000; val_acc: 0.088000\n",
      "(Epoch 96 / 100) train acc: 0.118000; val_acc: 0.088000\n",
      "(Epoch 97 / 100) train acc: 0.118000; val_acc: 0.088000\n",
      "(Epoch 98 / 100) train acc: 0.118000; val_acc: 0.088000\n",
      "(Epoch 99 / 100) train acc: 0.118000; val_acc: 0.088000\n",
      "(Epoch 100 / 100) train acc: 0.118000; val_acc: 0.088000\n",
      "0.75\n",
      "(Iteration 1 / 500) loss: 9.324068\n",
      "(Epoch 0 / 100) train acc: 0.098000; val_acc: 0.094000\n",
      "(Epoch 1 / 100) train acc: 0.098000; val_acc: 0.090000\n",
      "(Epoch 2 / 100) train acc: 0.106000; val_acc: 0.088000\n",
      "(Epoch 3 / 100) train acc: 0.100000; val_acc: 0.089000\n",
      "(Epoch 4 / 100) train acc: 0.100000; val_acc: 0.093000\n",
      "(Epoch 5 / 100) train acc: 0.112000; val_acc: 0.102000\n",
      "(Epoch 6 / 100) train acc: 0.120000; val_acc: 0.082000\n",
      "(Epoch 7 / 100) train acc: 0.118000; val_acc: 0.095000\n",
      "(Epoch 8 / 100) train acc: 0.114000; val_acc: 0.095000\n",
      "(Epoch 9 / 100) train acc: 0.114000; val_acc: 0.093000\n",
      "(Epoch 10 / 100) train acc: 0.116000; val_acc: 0.095000\n",
      "(Epoch 11 / 100) train acc: 0.106000; val_acc: 0.093000\n",
      "(Epoch 12 / 100) train acc: 0.096000; val_acc: 0.102000\n",
      "(Epoch 13 / 100) train acc: 0.112000; val_acc: 0.101000\n",
      "(Epoch 14 / 100) train acc: 0.096000; val_acc: 0.091000\n",
      "(Epoch 15 / 100) train acc: 0.082000; val_acc: 0.092000\n",
      "(Epoch 16 / 100) train acc: 0.104000; val_acc: 0.093000\n",
      "(Epoch 17 / 100) train acc: 0.098000; val_acc: 0.102000\n",
      "(Epoch 18 / 100) train acc: 0.106000; val_acc: 0.086000\n",
      "(Epoch 19 / 100) train acc: 0.112000; val_acc: 0.089000\n",
      "(Epoch 20 / 100) train acc: 0.100000; val_acc: 0.092000\n",
      "(Iteration 101 / 500) loss: 2.302585\n",
      "(Epoch 21 / 100) train acc: 0.104000; val_acc: 0.086000\n",
      "(Epoch 22 / 100) train acc: 0.100000; val_acc: 0.088000\n",
      "(Epoch 23 / 100) train acc: 0.122000; val_acc: 0.079000\n",
      "(Epoch 24 / 100) train acc: 0.122000; val_acc: 0.098000\n",
      "(Epoch 25 / 100) train acc: 0.098000; val_acc: 0.099000\n",
      "(Epoch 26 / 100) train acc: 0.116000; val_acc: 0.090000\n",
      "(Epoch 27 / 100) train acc: 0.098000; val_acc: 0.090000\n",
      "(Epoch 28 / 100) train acc: 0.108000; val_acc: 0.093000\n",
      "(Epoch 29 / 100) train acc: 0.100000; val_acc: 0.098000\n",
      "(Epoch 30 / 100) train acc: 0.104000; val_acc: 0.084000\n",
      "(Epoch 31 / 100) train acc: 0.118000; val_acc: 0.089000\n",
      "(Epoch 32 / 100) train acc: 0.090000; val_acc: 0.091000\n",
      "(Epoch 33 / 100) train acc: 0.122000; val_acc: 0.081000\n",
      "(Epoch 34 / 100) train acc: 0.110000; val_acc: 0.089000\n",
      "(Epoch 35 / 100) train acc: 0.118000; val_acc: 0.082000\n",
      "(Epoch 36 / 100) train acc: 0.116000; val_acc: 0.103000\n",
      "(Epoch 37 / 100) train acc: 0.108000; val_acc: 0.093000\n",
      "(Epoch 38 / 100) train acc: 0.100000; val_acc: 0.096000\n",
      "(Epoch 39 / 100) train acc: 0.100000; val_acc: 0.098000\n",
      "(Epoch 40 / 100) train acc: 0.104000; val_acc: 0.092000\n",
      "(Iteration 201 / 500) loss: 2.302585\n",
      "(Epoch 41 / 100) train acc: 0.122000; val_acc: 0.100000\n",
      "(Epoch 42 / 100) train acc: 0.108000; val_acc: 0.086000\n",
      "(Epoch 43 / 100) train acc: 0.106000; val_acc: 0.098000\n",
      "(Epoch 44 / 100) train acc: 0.104000; val_acc: 0.097000\n",
      "(Epoch 45 / 100) train acc: 0.104000; val_acc: 0.099000\n",
      "(Epoch 46 / 100) train acc: 0.114000; val_acc: 0.113000\n",
      "(Epoch 47 / 100) train acc: 0.094000; val_acc: 0.076000\n",
      "(Epoch 48 / 100) train acc: 0.114000; val_acc: 0.097000\n",
      "(Epoch 49 / 100) train acc: 0.108000; val_acc: 0.088000\n",
      "(Epoch 50 / 100) train acc: 0.102000; val_acc: 0.088000\n",
      "(Epoch 51 / 100) train acc: 0.120000; val_acc: 0.098000\n",
      "(Epoch 52 / 100) train acc: 0.094000; val_acc: 0.086000\n",
      "(Epoch 53 / 100) train acc: 0.102000; val_acc: 0.091000\n",
      "(Epoch 54 / 100) train acc: 0.118000; val_acc: 0.100000\n",
      "(Epoch 55 / 100) train acc: 0.104000; val_acc: 0.080000\n",
      "(Epoch 56 / 100) train acc: 0.098000; val_acc: 0.091000\n",
      "(Epoch 57 / 100) train acc: 0.110000; val_acc: 0.090000\n",
      "(Epoch 58 / 100) train acc: 0.094000; val_acc: 0.098000\n",
      "(Epoch 59 / 100) train acc: 0.102000; val_acc: 0.092000\n",
      "(Epoch 60 / 100) train acc: 0.112000; val_acc: 0.082000\n",
      "(Iteration 301 / 500) loss: 2.302585\n",
      "(Epoch 61 / 100) train acc: 0.106000; val_acc: 0.105000\n",
      "(Epoch 62 / 100) train acc: 0.100000; val_acc: 0.100000\n",
      "(Epoch 63 / 100) train acc: 0.118000; val_acc: 0.087000\n",
      "(Epoch 64 / 100) train acc: 0.114000; val_acc: 0.096000\n",
      "(Epoch 65 / 100) train acc: 0.110000; val_acc: 0.088000\n",
      "(Epoch 66 / 100) train acc: 0.114000; val_acc: 0.102000\n",
      "(Epoch 67 / 100) train acc: 0.118000; val_acc: 0.080000\n",
      "(Epoch 68 / 100) train acc: 0.108000; val_acc: 0.085000\n",
      "(Epoch 69 / 100) train acc: 0.096000; val_acc: 0.098000\n",
      "(Epoch 70 / 100) train acc: 0.110000; val_acc: 0.094000\n",
      "(Epoch 71 / 100) train acc: 0.106000; val_acc: 0.090000\n",
      "(Epoch 72 / 100) train acc: 0.112000; val_acc: 0.092000\n",
      "(Epoch 73 / 100) train acc: 0.104000; val_acc: 0.096000\n",
      "(Epoch 74 / 100) train acc: 0.102000; val_acc: 0.089000\n",
      "(Epoch 75 / 100) train acc: 0.092000; val_acc: 0.087000\n",
      "(Epoch 76 / 100) train acc: 0.106000; val_acc: 0.097000\n",
      "(Epoch 77 / 100) train acc: 0.122000; val_acc: 0.090000\n",
      "(Epoch 78 / 100) train acc: 0.096000; val_acc: 0.088000\n",
      "(Epoch 79 / 100) train acc: 0.100000; val_acc: 0.102000\n",
      "(Epoch 80 / 100) train acc: 0.112000; val_acc: 0.093000\n",
      "(Iteration 401 / 500) loss: 2.302585\n",
      "(Epoch 81 / 100) train acc: 0.110000; val_acc: 0.096000\n",
      "(Epoch 82 / 100) train acc: 0.100000; val_acc: 0.107000\n",
      "(Epoch 83 / 100) train acc: 0.110000; val_acc: 0.099000\n",
      "(Epoch 84 / 100) train acc: 0.098000; val_acc: 0.105000\n",
      "(Epoch 85 / 100) train acc: 0.098000; val_acc: 0.096000\n",
      "(Epoch 86 / 100) train acc: 0.100000; val_acc: 0.094000\n",
      "(Epoch 87 / 100) train acc: 0.116000; val_acc: 0.088000\n",
      "(Epoch 88 / 100) train acc: 0.120000; val_acc: 0.094000\n",
      "(Epoch 89 / 100) train acc: 0.114000; val_acc: 0.092000\n",
      "(Epoch 90 / 100) train acc: 0.112000; val_acc: 0.087000\n",
      "(Epoch 91 / 100) train acc: 0.104000; val_acc: 0.084000\n",
      "(Epoch 92 / 100) train acc: 0.084000; val_acc: 0.099000\n",
      "(Epoch 93 / 100) train acc: 0.098000; val_acc: 0.103000\n",
      "(Epoch 94 / 100) train acc: 0.102000; val_acc: 0.092000\n",
      "(Epoch 95 / 100) train acc: 0.110000; val_acc: 0.093000\n",
      "(Epoch 96 / 100) train acc: 0.104000; val_acc: 0.087000\n",
      "(Epoch 97 / 100) train acc: 0.098000; val_acc: 0.085000\n",
      "(Epoch 98 / 100) train acc: 0.112000; val_acc: 0.095000\n",
      "(Epoch 99 / 100) train acc: 0.118000; val_acc: 0.105000\n",
      "(Epoch 100 / 100) train acc: 0.096000; val_acc: 0.086000\n"
     ]
    }
   ],
   "source": [
    "# Train two identical nets, one with dropout and one without\n",
    "np.random.seed(231)\n",
    "num_train = 500\n",
    "small_data = {\n",
    "  'X_train': data['X_train'][:num_train],\n",
    "  'y_train': data['y_train'][:num_train],\n",
    "  'X_val': data['X_val'],\n",
    "  'y_val': data['y_val'],\n",
    "}\n",
    "\n",
    "solvers = {}\n",
    "dropout_choices = [0, 0.75]\n",
    "for dropout in dropout_choices:\n",
    "  model = FullyConnectedNet([500], dropout=dropout)\n",
    "  print(dropout)\n",
    "\n",
    "  solver = Solver(model, small_data,\n",
    "                  num_epochs=100, batch_size=100,\n",
    "                  update_rule='adam',\n",
    "                  optim_config={\n",
    "                    'learning_rate': 5e-4,\n",
    "                  },\n",
    "                  verbose=True, print_every=100)\n",
    "  solver.train()\n",
    "  solvers[dropout] = solver"
   ]
  },
  {
   "cell_type": "code",
   "execution_count": 21,
   "metadata": {
    "collapsed": false,
    "deletable": true,
    "editable": true
   },
   "outputs": [
    {
     "data": {
      "image/png": "[encoded data removed]",
      "text/plain": [
       "<matplotlib.figure.Figure at 0x7f64d83f6438>"
      ]
     },
     "metadata": {},
     "output_type": "display_data"
    }
   ],
   "source": [
    "# Plot train and validation accuracies of the two models\n",
    "\n",
    "train_accs = []\n",
    "val_accs = []\n",
    "for dropout in dropout_choices:\n",
    "  solver = solvers[dropout]\n",
    "  train_accs.append(solver.train_acc_history[-1])\n",
    "  val_accs.append(solver.val_acc_history[-1])\n",
    "\n",
    "plt.subplot(3, 1, 1)\n",
    "for dropout in dropout_choices:\n",
    "  plt.plot(solvers[dropout].train_acc_history, 'o', label='%.2f dropout' % dropout)\n",
    "plt.title('Train accuracy')\n",
    "plt.xlabel('Epoch')\n",
    "plt.ylabel('Accuracy')\n",
    "plt.legend(ncol=2, loc='lower right')\n",
    "  \n",
    "plt.subplot(3, 1, 2)\n",
    "for dropout in dropout_choices:\n",
    "  plt.plot(solvers[dropout].val_acc_history, 'o', label='%.2f dropout' % dropout)\n",
    "plt.title('Val accuracy')\n",
    "plt.xlabel('Epoch')\n",
    "plt.ylabel('Accuracy')\n",
    "plt.legend(ncol=2, loc='lower right')\n",
    "\n",
    "plt.gcf().set_size_inches(15, 15)\n",
    "plt.show()"
   ]
  },
  {
   "cell_type": "markdown",
   "metadata": {
    "deletable": true,
    "editable": true
   },
   "source": [
    "# Question\n",
    "Explain what you see in this experiment. What does it suggest about dropout?"
   ]
  },
  {
   "cell_type": "markdown",
   "metadata": {
    "deletable": true,
    "editable": true
   },
   "source": [
    "# Answer\n"
   ]
  }
 ],
 "metadata": {
  "kernelspec": {
   "display_name": "Python 3",
   "language": "python",
   "name": "python3"
  },
  "language_info": {
   "codemirror_mode": {
    "name": "ipython",
    "version": 3
   },
   "file_extension": ".py",
   "mimetype": "text/x-python",
   "name": "python",
   "nbconvert_exporter": "python",
   "pygments_lexer": "ipython3",
   "version": "3.5.2"
  }
 },
 "nbformat": 4,
 "nbformat_minor": 0
}
