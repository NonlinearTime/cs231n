{
 "cells": [
  {
   "cell_type": "code",
   "execution_count": 60,
   "metadata": {
    "collapsed": false
   },
   "outputs": [
    {
     "name": "stdout",
     "output_type": "stream",
     "text": [
      "[0 3 1 1 4 1]\n",
      "4\n",
      "5\n",
      "4\n",
      "5\n",
      "4\n",
      "[ 13.   8.   5.]\n",
      "[[55]\n",
      " [90]]\n",
      "[[ 49.  46.  45.]\n",
      " [ 77.  75.  75.]]\n"
     ]
    }
   ],
   "source": [
    "import numpy as np\n",
    "y = np.array([1,2,1,3,1,4,4,4,4,5])\n",
    "count = np.bincount(y)\n",
    "print(count)\n",
    "print(np.argmax(count))\n",
    "print(np.where(y == np.argmax(count))[0][0])\n",
    "\n",
    "from scipy.stats import mode\n",
    "m = mode(y)[0][0]\n",
    "indice = np.where(y == m)[0][0]\n",
    "print(m)\n",
    "print(indice)\n",
    "print(y[indice])\n",
    "\n",
    "x = np.array([[1,2,3,4,5],[2,3,4,5,6]])\n",
    "z = np.ones((3,5))\n",
    "z[0,1] = 3\n",
    "z[1,1] = 2\n",
    "pre = np.dot(x,z.T)\n",
    "xs = np.square(x)\n",
    "zs = np.square(z)\n",
    "prex = np.sum(xs,axis = 1)[:,np.newaxis]\n",
    "prez = np.sum(zs,axis = 1)\n",
    "\n",
    "\n",
    "print(prez)\n",
    "print(prex)\n",
    "print(prex + prez - pre)\n"
   ]
  },
  {
   "cell_type": "code",
   "execution_count": null,
   "metadata": {
    "collapsed": true
   },
   "outputs": [],
   "source": []
  }
 ],
 "metadata": {
  "kernelspec": {
   "display_name": "Python 2",
   "language": "python",
   "name": "python2"
  },
  "language_info": {
   "codemirror_mode": {
    "name": "ipython",
    "version": 2
   },
   "file_extension": ".py",
   "mimetype": "text/x-python",
   "name": "python",
   "nbconvert_exporter": "python",
   "pygments_lexer": "ipython2",
   "version": "2.7.12"
  }
 },
 "nbformat": 4,
 "nbformat_minor": 0
}
